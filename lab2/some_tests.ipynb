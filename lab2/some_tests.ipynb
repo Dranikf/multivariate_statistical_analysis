{
 "cells": [
  {
   "cell_type": "code",
   "execution_count": 1,
   "source": [
    "if sys.path[-1] != sys.path[0][:-5]:\n",
    "    sys.path.append(sys.path[0][:-5])\n",
    "\n",
    "\n",
    "import pandas as pd\n",
    "import numpy as np\n",
    "from math import sqrt\n",
    "import matplotlib.pyplot as plt\n",
    "\n",
    "from lab2.main_comp import main_componets2"
   ],
   "outputs": [],
   "metadata": {}
  },
  {
   "cell_type": "markdown",
   "source": [
    "решил для этого примера посмотреть нескролько визуализаций которые помогут мне понять суть происходящего."
   ],
   "metadata": {}
  },
  {
   "cell_type": "code",
   "execution_count": 2,
   "source": [
    "df1 = pd.read_csv(sys.path[-1] + \"/lab2/data.csv\", sep = \";\", decimal = \",\")\n",
    "data = pd.concat([df1[\"x1\"], df1[\"x2\"]], axis = 1).to_numpy()"
   ],
   "outputs": [],
   "metadata": {}
  },
  {
   "cell_type": "markdown",
   "source": [
    "поглядим как будет выглядеть трехмерный точечный график представленных данных"
   ],
   "metadata": {}
  },
  {
   "cell_type": "code",
   "execution_count": 3,
   "source": [
    "plt.scatter(data[:,0], data[:,1], s = 200)"
   ],
   "outputs": [
    {
     "output_type": "execute_result",
     "data": {
      "text/plain": [
       "<matplotlib.collections.PathCollection at 0x7f7e594632e0>"
      ]
     },
     "metadata": {},
     "execution_count": 3
    },
    {
     "output_type": "display_data",
     "data": {
      "image/png": "[encoded data removed]",
      "text/plain": [
       "<Figure size 432x288 with 1 Axes>"
      ]
     },
     "metadata": {
      "needs_background": "light"
     }
    }
   ],
   "metadata": {}
  },
  {
   "cell_type": "markdown",
   "source": [
    "Преобразуем и посмотрим какой вид примет график"
   ],
   "metadata": {}
  },
  {
   "cell_type": "code",
   "execution_count": 4,
   "source": [
    "res = main_componets2(data)\n",
    "F = res['F'];\n",
    "A = res['A'];\n",
    "\n",
    "plt.scatter(F[:,0], F[:,1], s = 200);\n",
    "print(A)"
   ],
   "outputs": [
    {
     "output_type": "stream",
     "name": "stdout",
     "text": [
      "[[ 0.97208217 -0.23464071]\n",
      " [ 0.97208217  0.23464071]]\n"
     ]
    },
    {
     "output_type": "display_data",
     "data": {
      "image/png": "[encoded data removed]",
      "text/plain": [
       "<Figure size 432x288 with 1 Axes>"
      ]
     },
     "metadata": {
      "needs_background": "light"
     }
    }
   ],
   "metadata": {}
  },
  {
   "cell_type": "markdown",
   "source": [
    "посмотрим на матрицу факторных нагрузок для более размерных данных"
   ],
   "metadata": {}
  },
  {
   "cell_type": "code",
   "execution_count": 5,
   "source": [
    "data = pd.concat([df1[\"x1\"], df1[\"x2\"], df1[\"x3\"]], axis = 1).to_numpy()\n",
    "res = main_componets2(data)\n",
    "F = res['F'];\n",
    "A = res['A'];\n",
    "L = res['L'];\n",
    "\n",
    "print('корреляционная матрица новых данных')\n",
    "print(np.corrcoef(F, rowvar = False))\n",
    "print('собсвенные числа корреляционной матрицы исходных данных')\n",
    "print(L)\n",
    "print(sum(sum(L)))"
   ],
   "outputs": [
    {
     "output_type": "stream",
     "name": "stdout",
     "text": [
      "корреляционная матрица новых данных\n",
      "[[ 1.00000000e+00 -1.26778577e-15 -6.54938115e-16]\n",
      " [-1.26778577e-15  1.00000000e+00 -8.60777268e-16]\n",
      " [-6.54938115e-16 -8.60777268e-16  1.00000000e+00]]\n",
      "собсвенные числа корреляционной матрицы исходных данных\n",
      "[[1.55888024 0.         0.        ]\n",
      " [0.         0.30562192 0.        ]\n",
      " [0.         0.         0.69028084]]\n",
      "2.5547830004534493\n"
     ]
    }
   ],
   "metadata": {}
  },
  {
   "cell_type": "code",
   "execution_count": null,
   "source": [],
   "outputs": [],
   "metadata": {}
  }
 ],
 "metadata": {
  "orig_nbformat": 4,
  "language_info": {
   "name": "python",
   "version": "3.9.7",
   "mimetype": "text/x-python",
   "codemirror_mode": {
    "name": "ipython",
    "version": 3
   },
   "pygments_lexer": "ipython3",
   "nbconvert_exporter": "python",
   "file_extension": ".py"
  },
  "kernelspec": {
   "name": "python3",
   "display_name": "Python 3.9.7 64-bit"
  },
  "interpreter": {
   "hash": "e7370f93d1d0cde622a1f8e1c04877d8463912d04d973331ad4851f04de6915a"
  }
 },
 "nbformat": 4,
 "nbformat_minor": 2
}