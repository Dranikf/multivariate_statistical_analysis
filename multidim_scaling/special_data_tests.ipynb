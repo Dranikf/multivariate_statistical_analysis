{
 "cells": [
  {
   "cell_type": "code",
   "execution_count": 1,
   "source": [
    "import sys;\n",
    "if sys.path[-1] != sys.path[0][:-16]:\n",
    "    sys.path.append(sys.path[0][:-16]);\n",
    "\n",
    "import md_scaling;\n",
    "import numpy as np;\n",
    "import lab2.main_comp as mp;"
   ],
   "outputs": [
    {
     "output_type": "stream",
     "name": "stdout",
     "text": [
      "[[ 0.99984059         nan  0.01785506]\n",
      " [-0.87308394         nan -0.48756993]\n",
      " [-0.85487111         nan  0.51884043]]\n"
     ]
    },
    {
     "output_type": "stream",
     "name": "stderr",
     "text": [
      "/home/dranik/KFA/programming/multivariate_statistical_analysis/lab2/main_comp.py:43: RuntimeWarning: invalid value encountered in sqrt\n",
      "  L = L**(1/2)\n"
     ]
    }
   ],
   "metadata": {}
  },
  {
   "cell_type": "code",
   "execution_count": null,
   "source": [
    "mat = np.array([[0, 2.47, 2.38],[2.47, 0, 1.54],[2.38, 1.54, 0]]);\n",
    "b = md_scaling.b_matrix(mat);"
   ],
   "outputs": [],
   "metadata": {}
  }
 ],
 "metadata": {
  "orig_nbformat": 4,
  "language_info": {
   "name": "python",
   "version": "3.9.7",
   "mimetype": "text/x-python",
   "codemirror_mode": {
    "name": "ipython",
    "version": 3
   },
   "pygments_lexer": "ipython3",
   "nbconvert_exporter": "python",
   "file_extension": ".py"
  },
  "kernelspec": {
   "name": "python3",
   "display_name": "Python 3.9.7 64-bit"
  },
  "interpreter": {
   "hash": "e7370f93d1d0cde622a1f8e1c04877d8463912d04d973331ad4851f04de6915a"
  }
 },
 "nbformat": 4,
 "nbformat_minor": 2
}