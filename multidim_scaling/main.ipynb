{
 "cells": [
  {
   "cell_type": "code",
   "execution_count": 2,
   "source": [
    "import sys;\n",
    "if sys.path[-1] != sys.path[0][:-16]:\n",
    "    sys.path.append(sys.path[0][:-16]);\n",
    "\n",
    "import md_scaling;\n",
    "import numpy as np;\n",
    "import pandas as pd;\n",
    "import lab2.main_comp as mp;\n",
    "from common.functions import eig_matlab"
   ],
   "outputs": [
    {
     "output_type": "stream",
     "name": "stdout",
     "text": [
      "[[ 9.99840586e-01 -1.12179951e-08  1.78550637e-02]\n",
      " [-8.73083939e-01 -6.88738302e-09 -4.87569929e-01]\n",
      " [-8.54871108e-01 -6.08623126e-09  5.18840428e-01]]\n"
     ]
    }
   ],
   "metadata": {}
  },
  {
   "cell_type": "markdown",
   "source": [
    "data loading"
   ],
   "metadata": {}
  },
  {
   "cell_type": "code",
   "execution_count": 3,
   "source": [
    "data = pd.read_csv('input_data.csv', sep = ',', header = None).to_numpy();\n",
    "print(data)"
   ],
   "outputs": [
    {
     "output_type": "stream",
     "name": "stdout",
     "text": [
      "[[1.4650e+04 1.2230e+03 1.0800e+01 1.4840e+02 2.6400e-01]\n",
      " [4.3643e+03 6.0600e+02 2.0000e-01 7.6500e+01 2.3400e-01]\n",
      " [1.4000e+03 3.0600e+02 8.2000e+00 1.5730e+02 2.7400e-01]]\n"
     ]
    }
   ],
   "metadata": {}
  },
  {
   "cell_type": "markdown",
   "source": [
    "data normalisation"
   ],
   "metadata": {}
  },
  {
   "cell_type": "code",
   "execution_count": 4,
   "source": [
    "norm_data = md_scaling.normalize_data(data)\n",
    "print(norm_data)\n",
    "pd.DataFrame(norm_data).to_excel('temp.xlsx')"
   ],
   "outputs": [
    {
     "output_type": "stream",
     "name": "stdout",
     "text": [
      "[[2.15290262 1.71850117 1.6875     1.16483516 1.02590674]\n",
      " [0.64135924 0.85152225 0.03125    0.60047096 0.90932642]\n",
      " [0.20573813 0.42997658 1.28125    1.23469388 1.06476684]]\n"
     ]
    }
   ],
   "metadata": {}
  },
  {
   "cell_type": "markdown",
   "source": [
    "compution of objects distances"
   ],
   "metadata": {}
  },
  {
   "cell_type": "code",
   "execution_count": 5,
   "source": [
    "distances = md_scaling.object_distances(norm_data)\n",
    "print(distances)\n",
    "pd.DataFrame(norm_data).to_excel('temp.xlsx')"
   ],
   "outputs": [
    {
     "output_type": "stream",
     "name": "stdout",
     "text": [
      "[[0.         2.47218078 2.37132338]\n",
      " [2.47218078 0.         1.53504623]\n",
      " [2.37132338 1.53504623 0.        ]]\n"
     ]
    }
   ],
   "metadata": {}
  },
  {
   "cell_type": "code",
   "execution_count": 6,
   "source": [
    "mat = np.array([[0, 2.47, 2.38],[2.47, 0, 1.54],[2.38, 1.54, 0]]);\n",
    "b = md_scaling.b_matrix(mat);\n",
    "pd.DataFrame(b).to_excel('temp.xlsx')"
   ],
   "outputs": [],
   "metadata": {}
  },
  {
   "cell_type": "code",
   "execution_count": 10,
   "source": [
    "res = mp.principal_comp_full_compution(b);\n",
    "print('корреляционная матрица')\n",
    "print(res['R'])\n",
    "print('собсвенные числа корреляционной матрицы')\n",
    "print(res['L'])\n",
    "pd.DataFrame(res['L']).to_excel('temp.xlsx')\n",
    "print('собсвенные векторы корреляционной матрицы')\n",
    "print(res['V'])\n",
    "pd.DataFrame(res['V']).to_excel('temp.xlsx')\n",
    "print('квадраты собственных чисел')\n",
    "print(res['L_sqrt'])\n",
    "pd.DataFrame(res['L_sqrt']).to_excel('temp.xlsx')\n",
    "print('матрица факторных нагрузок')\n",
    "print(res['A'])\n",
    "pd.DataFrame(res['A']).to_excel('temp.xlsx')\n",
    "print('матрица новых координат')\n",
    "print(res['F'])"
   ],
   "outputs": [
    {
     "output_type": "stream",
     "name": "stdout",
     "text": [
      "корреляционная матрица\n",
      "[[ 1.         -0.88165035 -0.8454709 ]\n",
      " [-0.88165035  1.          0.49340324]\n",
      " [-0.8454709   0.49340324  1.        ]]\n",
      "собсвенные числа корреляционной матрицы\n",
      "[[ 2.49276137e+00  0.00000000e+00  0.00000000e+00]\n",
      " [ 0.00000000e+00 -2.10321669e-16  0.00000000e+00]\n",
      " [ 0.00000000e+00  0.00000000e+00  5.07238628e-01]]\n",
      "собсвенные векторы корреляционной матрицы\n",
      "[[ 0.63327218 -0.77352301  0.02507005]\n",
      " [-0.55298792 -0.474911   -0.68459032]\n",
      " [-0.5414524  -0.41966857  0.7284968 ]]\n",
      "квадраты собственных чисел\n",
      "[[1.57884812e+00 0.00000000e+00 0.00000000e+00]\n",
      " [0.00000000e+00 1.45024711e-08 0.00000000e+00]\n",
      " [0.00000000e+00 0.00000000e+00 7.12206872e-01]]\n",
      "матрица факторных нагрузок\n",
      "[[ 9.99840586e-01 -1.12179951e-08  1.78550637e-02]\n",
      " [-8.73083939e-01 -6.88738302e-09 -4.87569929e-01]\n",
      " [-8.54871108e-01 -6.08623126e-09  5.18840428e-01]]\n",
      "матрица новых координат\n",
      "[[ 1.41398801e+00 -1.15115765e-08 -2.52567495e-02]\n",
      " [-7.28866992e-01 -1.13096219e-09 -1.21192116e+00]\n",
      " [-6.85121019e-01  1.07360518e-08  1.23717791e+00]]\n"
     ]
    }
   ],
   "metadata": {}
  },
  {
   "cell_type": "code",
   "execution_count": 14,
   "source": [
    "print(res['L'][0,0]*res['V'][:,0])\n",
    "print(np.dot(res['R'],res['V'][:,0]))"
   ],
   "outputs": [
    {
     "output_type": "stream",
     "name": "stdout",
     "text": [
      "[ 1.57859642 -1.37846693 -1.34971164]\n",
      "[ 1.57859642 -1.37846693 -1.34971164]\n"
     ]
    }
   ],
   "metadata": {}
  },
  {
   "cell_type": "code",
   "execution_count": 17,
   "source": [
    "from common.functions import eig_matlab\n",
    "\n",
    "[L, V] = eig_matlab(b)\n",
    "L = np.sqrt(L);\n",
    "\n",
    "print(np.dot(V,L))"
   ],
   "outputs": [
    {
     "output_type": "stream",
     "name": "stdout",
     "text": [
      "[[ 1.53256051e+00 -1.14569081e-08 -4.75212556e-02]\n",
      " [-8.37523387e-01 -1.14569081e-08 -7.42936455e-01]\n",
      " [-6.95037127e-01 -1.14569081e-08  7.90457710e-01]]\n"
     ]
    }
   ],
   "metadata": {}
  }
 ],
 "metadata": {
  "orig_nbformat": 4,
  "language_info": {
   "name": "python",
   "version": "3.9.7",
   "mimetype": "text/x-python",
   "codemirror_mode": {
    "name": "ipython",
    "version": 3
   },
   "pygments_lexer": "ipython3",
   "nbconvert_exporter": "python",
   "file_extension": ".py"
  },
  "kernelspec": {
   "name": "python3",
   "display_name": "Python 3.9.7 64-bit"
  },
  "interpreter": {
   "hash": "e7370f93d1d0cde622a1f8e1c04877d8463912d04d973331ad4851f04de6915a"
  }
 },
 "nbformat": 4,
 "nbformat_minor": 2
}