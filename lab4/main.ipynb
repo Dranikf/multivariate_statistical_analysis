{
 "metadata": {
  "language_info": {
   "codemirror_mode": {
    "name": "ipython",
    "version": 3
   },
   "file_extension": ".py",
   "mimetype": "text/x-python",
   "name": "python",
   "nbconvert_exporter": "python",
   "pygments_lexer": "ipython3",
   "version": "3.8.5"
  },
  "orig_nbformat": 2,
  "kernelspec": {
   "name": "python38564bit2ac968a226e049faa2ada57a792bfdaf",
   "display_name": "Python 3.8.5 64-bit"
  },
  "metadata": {
   "interpreter": {
    "hash": "31f2aee4e71d21fbe5cf8b01ff0e069b9275f58929596ceb00d14d90e3e16cd6"
   }
  }
 },
 "nbformat": 4,
 "nbformat_minor": 2,
 "cells": [
  {
   "cell_type": "code",
   "execution_count": 12,
   "metadata": {},
   "outputs": [],
   "source": [
    "import pandas as pd\n",
    "import matplotlib.pyplot as plt\n",
    "import numpy as np"
   ]
  },
  {
   "cell_type": "code",
   "execution_count": 19,
   "metadata": {},
   "outputs": [
    {
     "output_type": "display_data",
     "data": {
      "text/plain": "<Figure size 1080x720 with 1 Axes>",
      "image/svg+xml": "<?xml version=\"1.0\" encoding=\"utf-8\" standalone=\"no\"?>\n<!DOCTYPE svg PUBLIC \"-//W3C//DTD SVG 1.1//EN\"\n  \"http://www.w3.org/Graphics/SVG/1.1/DTD/svg11.dtd\">\n<!-- Created with matplotlib (https://matplotlib.org/) -->\n<svg height=\"574.678125pt\" version=\"1.1\" viewBox=\"0 0 871.125 574.678125\" width=\"871.125pt\" xmlns=\"http://www.w3.org/2000/svg\" xmlns:xlink=\"http://www.w3.org/1999/xlink\">\n <metadata>\n  <rdf:RDF xmlns:cc=\"http://creativecommons.org/ns#\" xmlns:dc=\"http://purl.org/dc/elements/1.1/\" xmlns:rdf=\"http://www.w3.org/1999/02/22-rdf-syntax-ns#\">\n   <cc:Work>\n    <dc:type rdf:resource=\"http://purl.org/dc/dcmitype/StillImage\"/>\n    <dc:date>2021-05-24T17:16:37.192921</dc:date>\n    <dc:format>image/svg+xml</dc:format>\n    <dc:creator>\n     <cc:Agent>\n      <dc:title>Matplotlib v3.3.4, https://matplotlib.org/</dc:title>\n     </cc:Agent>\n    </dc:creator>\n   </cc:Work>\n  </rdf:RDF>\n </metadata>\n <defs>\n  <style type=\"text/css\">*{stroke-linecap:butt;stroke-linejoin:round;}</style>\n </defs>\n <g id=\"figure_1\">\n  <g id=\"patch_1\">\n   <path d=\"M 0 574.678125 \nL 871.125 574.678125 \nL 871.125 0 \nL 0 0 \nz\n\" style=\"fill:none;\"/>\n  </g>\n  <g id=\"axes_1\">\n   <g id=\"patch_2\">\n    <path d=\"M 26.925 550.8 \nL 863.925 550.8 \nL 863.925 7.2 \nL 26.925 7.2 \nz\n\" style=\"fill:#ffffff;\"/>\n   </g>\n   <g id=\"PathCollection_1\">\n    <defs>\n     <path d=\"M 0 5 \nC 1.326016 5 2.597899 4.473168 3.535534 3.535534 \nC 4.473168 2.597899 5 1.326016 5 0 \nC 5 -1.326016 4.473168 -2.597899 3.535534 -3.535534 \nC 2.597899 -4.473168 1.326016 -5 0 -5 \nC -1.326016 -5 -2.597899 -4.473168 -3.535534 -3.535534 \nC -4.473168 -2.597899 -5 -1.326016 -5 0 \nC -5 1.326016 -4.473168 2.597899 -3.535534 3.535534 \nC -2.597899 4.473168 -1.326016 5 0 5 \nz\n\" id=\"ma98e851b14\" style=\"stroke:#1f77b4;\"/>\n    </defs>\n    <g clip-path=\"url(#pc45b43f17b)\">\n     <use style=\"fill:#1f77b4;stroke:#1f77b4;\" x=\"140.193406\" xlink:href=\"#ma98e851b14\" y=\"495.204545\"/>\n     <use style=\"fill:#1f77b4;stroke:#1f77b4;\" x=\"91.009169\" xlink:href=\"#ma98e851b14\" y=\"511.460526\"/>\n     <use style=\"fill:#1f77b4;stroke:#1f77b4;\" x=\"99.68874\" xlink:href=\"#ma98e851b14\" y=\"488.702153\"/>\n     <use style=\"fill:#1f77b4;stroke:#1f77b4;\" x=\"131.513835\" xlink:href=\"#ma98e851b14\" y=\"485.450957\"/>\n     <use style=\"fill:#1f77b4;stroke:#1f77b4;\" x=\"93.902359\" xlink:href=\"#ma98e851b14\" y=\"526.090909\"/>\n    </g>\n   </g>\n   <g id=\"PathCollection_2\">\n    <defs>\n     <path d=\"M 0 5 \nC 1.326016 5 2.597899 4.473168 3.535534 3.535534 \nC 4.473168 2.597899 5 1.326016 5 0 \nC 5 -1.326016 4.473168 -2.597899 3.535534 -3.535534 \nC 2.597899 -4.473168 1.326016 -5 0 -5 \nC -1.326016 -5 -2.597899 -4.473168 -3.535534 -3.535534 \nC -4.473168 -2.597899 -5 -1.326016 -5 0 \nC -5 1.326016 -4.473168 2.597899 -3.535534 3.535534 \nC -2.597899 4.473168 -1.326016 5 0 5 \nz\n\" id=\"m3aed5416e9\" style=\"stroke:#ff7f0e;\"/>\n    </defs>\n    <g clip-path=\"url(#pc45b43f17b)\">\n     <use style=\"fill:#ff7f0e;stroke:#ff7f0e;\" x=\"461.337548\" xlink:href=\"#m3aed5416e9\" y=\"488.702153\"/>\n     <use style=\"fill:#ff7f0e;stroke:#ff7f0e;\" x=\"478.69669\" xlink:href=\"#m3aed5416e9\" y=\"506.583732\"/>\n     <use style=\"fill:#ff7f0e;stroke:#ff7f0e;\" x=\"438.192024\" xlink:href=\"#m3aed5416e9\" y=\"462.692584\"/>\n     <use style=\"fill:#ff7f0e;stroke:#ff7f0e;\" x=\"524.987738\" xlink:href=\"#m3aed5416e9\" y=\"498.455742\"/>\n     <use style=\"fill:#ff7f0e;stroke:#ff7f0e;\" x=\"441.085214\" xlink:href=\"#m3aed5416e9\" y=\"503.332536\"/>\n    </g>\n   </g>\n   <g id=\"PathCollection_3\">\n    <defs>\n     <path d=\"M 0 5 \nC 1.326016 5 2.597899 4.473168 3.535534 3.535534 \nC 4.473168 2.597899 5 1.326016 5 0 \nC 5 -1.326016 4.473168 -2.597899 3.535534 -3.535534 \nC 2.597899 -4.473168 1.326016 -5 0 -5 \nC -1.326016 -5 -2.597899 -4.473168 -3.535534 -3.535534 \nC -4.473168 -2.597899 -5 -1.326016 -5 0 \nC -5 1.326016 -4.473168 2.597899 -3.535534 3.535534 \nC -2.597899 4.473168 -1.326016 5 0 5 \nz\n\" id=\"m72d433477c\" style=\"stroke:#2ca02c;\"/>\n    </defs>\n    <g clip-path=\"url(#pc45b43f17b)\">\n     <use style=\"fill:#2ca02c;stroke:#2ca02c;\" x=\"756.442974\" xlink:href=\"#m72d433477c\" y=\"261.118421\"/>\n     <use style=\"fill:#2ca02c;stroke:#2ca02c;\" x=\"779.588498\" xlink:href=\"#m72d433477c\" y=\"72.549043\"/>\n     <use style=\"fill:#2ca02c;stroke:#2ca02c;\" x=\"825.879545\" xlink:href=\"#m72d433477c\" y=\"61.169856\"/>\n     <use style=\"fill:#2ca02c;stroke:#2ca02c;\" x=\"741.977022\" xlink:href=\"#m72d433477c\" y=\"114.814593\"/>\n     <use style=\"fill:#2ca02c;stroke:#2ca02c;\" x=\"727.51107\" xlink:href=\"#m72d433477c\" y=\"90.430622\"/>\n    </g>\n   </g>\n   <g id=\"PathCollection_4\">\n    <defs>\n     <path d=\"M 0 7.071068 \nC 1.875269 7.071068 3.673985 6.326016 5 5 \nC 6.326016 3.673985 7.071068 1.875269 7.071068 0 \nC 7.071068 -1.875269 6.326016 -3.673985 5 -5 \nC 3.673985 -6.326016 1.875269 -7.071068 0 -7.071068 \nC -1.875269 -7.071068 -3.673985 -6.326016 -5 -5 \nC -6.326016 -3.673985 -7.071068 -1.875269 -7.071068 0 \nC -7.071068 1.875269 -6.326016 3.673985 -5 5 \nC -3.673985 6.326016 -1.875269 7.071068 0 7.071068 \nz\n\" id=\"m563fb5f77b\" style=\"stroke:#d62728;\"/>\n    </defs>\n    <g clip-path=\"url(#pc45b43f17b)\">\n     <use style=\"fill:#d62728;stroke:#d62728;\" x=\"822.986355\" xlink:href=\"#m563fb5f77b\" y=\"31.909091\"/>\n     <use style=\"fill:#d62728;stroke:#d62728;\" x=\"507.628595\" xlink:href=\"#m563fb5f77b\" y=\"483.825359\"/>\n     <use style=\"fill:#d62728;stroke:#d62728;\" x=\"64.970455\" xlink:href=\"#m563fb5f77b\" y=\"483.825359\"/>\n    </g>\n   </g>\n   <g id=\"matplotlib.axis_1\">\n    <g id=\"xtick_1\">\n     <g id=\"line2d_1\">\n      <defs>\n       <path d=\"M 0 0 \nL 0 3.5 \n\" id=\"m42c96b3bd3\" style=\"stroke:#000000;stroke-width:0.8;\"/>\n      </defs>\n      <g>\n       <use style=\"stroke:#000000;stroke-width:0.8;\" x=\"96.79555\" xlink:href=\"#m42c96b3bd3\" y=\"550.8\"/>\n      </g>\n     </g>\n     <g id=\"text_1\">\n      <!-- 5 -->\n      <g transform=\"translate(93.6143 565.398438)scale(0.1 -0.1)\">\n       <defs>\n        <path d=\"M 10.796875 72.90625 \nL 49.515625 72.90625 \nL 49.515625 64.59375 \nL 19.828125 64.59375 \nL 19.828125 46.734375 \nQ 21.96875 47.46875 24.109375 47.828125 \nQ 26.265625 48.1875 28.421875 48.1875 \nQ 40.625 48.1875 47.75 41.5 \nQ 54.890625 34.8125 54.890625 23.390625 \nQ 54.890625 11.625 47.5625 5.09375 \nQ 40.234375 -1.421875 26.90625 -1.421875 \nQ 22.3125 -1.421875 17.546875 -0.640625 \nQ 12.796875 0.140625 7.71875 1.703125 \nL 7.71875 11.625 \nQ 12.109375 9.234375 16.796875 8.0625 \nQ 21.484375 6.890625 26.703125 6.890625 \nQ 35.15625 6.890625 40.078125 11.328125 \nQ 45.015625 15.765625 45.015625 23.390625 \nQ 45.015625 31 40.078125 35.4375 \nQ 35.15625 39.890625 26.703125 39.890625 \nQ 22.75 39.890625 18.8125 39.015625 \nQ 14.890625 38.140625 10.796875 36.28125 \nz\n\" id=\"DejaVuSans-53\"/>\n       </defs>\n       <use xlink:href=\"#DejaVuSans-53\"/>\n      </g>\n     </g>\n    </g>\n    <g id=\"xtick_2\">\n     <g id=\"line2d_2\">\n      <g>\n       <use style=\"stroke:#000000;stroke-width:0.8;\" x=\"241.455073\" xlink:href=\"#m42c96b3bd3\" y=\"550.8\"/>\n      </g>\n     </g>\n     <g id=\"text_2\">\n      <!-- 10 -->\n      <g transform=\"translate(235.092573 565.398438)scale(0.1 -0.1)\">\n       <defs>\n        <path d=\"M 12.40625 8.296875 \nL 28.515625 8.296875 \nL 28.515625 63.921875 \nL 10.984375 60.40625 \nL 10.984375 69.390625 \nL 28.421875 72.90625 \nL 38.28125 72.90625 \nL 38.28125 8.296875 \nL 54.390625 8.296875 \nL 54.390625 0 \nL 12.40625 0 \nz\n\" id=\"DejaVuSans-49\"/>\n        <path d=\"M 31.78125 66.40625 \nQ 24.171875 66.40625 20.328125 58.90625 \nQ 16.5 51.421875 16.5 36.375 \nQ 16.5 21.390625 20.328125 13.890625 \nQ 24.171875 6.390625 31.78125 6.390625 \nQ 39.453125 6.390625 43.28125 13.890625 \nQ 47.125 21.390625 47.125 36.375 \nQ 47.125 51.421875 43.28125 58.90625 \nQ 39.453125 66.40625 31.78125 66.40625 \nz\nM 31.78125 74.21875 \nQ 44.046875 74.21875 50.515625 64.515625 \nQ 56.984375 54.828125 56.984375 36.375 \nQ 56.984375 17.96875 50.515625 8.265625 \nQ 44.046875 -1.421875 31.78125 -1.421875 \nQ 19.53125 -1.421875 13.0625 8.265625 \nQ 6.59375 17.96875 6.59375 36.375 \nQ 6.59375 54.828125 13.0625 64.515625 \nQ 19.53125 74.21875 31.78125 74.21875 \nz\n\" id=\"DejaVuSans-48\"/>\n       </defs>\n       <use xlink:href=\"#DejaVuSans-49\"/>\n       <use x=\"63.623047\" xlink:href=\"#DejaVuSans-48\"/>\n      </g>\n     </g>\n    </g>\n    <g id=\"xtick_3\">\n     <g id=\"line2d_3\">\n      <g>\n       <use style=\"stroke:#000000;stroke-width:0.8;\" x=\"386.114596\" xlink:href=\"#m42c96b3bd3\" y=\"550.8\"/>\n      </g>\n     </g>\n     <g id=\"text_3\">\n      <!-- 15 -->\n      <g transform=\"translate(379.752096 565.398438)scale(0.1 -0.1)\">\n       <use xlink:href=\"#DejaVuSans-49\"/>\n       <use x=\"63.623047\" xlink:href=\"#DejaVuSans-53\"/>\n      </g>\n     </g>\n    </g>\n    <g id=\"xtick_4\">\n     <g id=\"line2d_4\">\n      <g>\n       <use style=\"stroke:#000000;stroke-width:0.8;\" x=\"530.774119\" xlink:href=\"#m42c96b3bd3\" y=\"550.8\"/>\n      </g>\n     </g>\n     <g id=\"text_4\">\n      <!-- 20 -->\n      <g transform=\"translate(524.411619 565.398438)scale(0.1 -0.1)\">\n       <defs>\n        <path d=\"M 19.1875 8.296875 \nL 53.609375 8.296875 \nL 53.609375 0 \nL 7.328125 0 \nL 7.328125 8.296875 \nQ 12.9375 14.109375 22.625 23.890625 \nQ 32.328125 33.6875 34.8125 36.53125 \nQ 39.546875 41.84375 41.421875 45.53125 \nQ 43.3125 49.21875 43.3125 52.78125 \nQ 43.3125 58.59375 39.234375 62.25 \nQ 35.15625 65.921875 28.609375 65.921875 \nQ 23.96875 65.921875 18.8125 64.3125 \nQ 13.671875 62.703125 7.8125 59.421875 \nL 7.8125 69.390625 \nQ 13.765625 71.78125 18.9375 73 \nQ 24.125 74.21875 28.421875 74.21875 \nQ 39.75 74.21875 46.484375 68.546875 \nQ 53.21875 62.890625 53.21875 53.421875 \nQ 53.21875 48.921875 51.53125 44.890625 \nQ 49.859375 40.875 45.40625 35.40625 \nQ 44.1875 33.984375 37.640625 27.21875 \nQ 31.109375 20.453125 19.1875 8.296875 \nz\n\" id=\"DejaVuSans-50\"/>\n       </defs>\n       <use xlink:href=\"#DejaVuSans-50\"/>\n       <use x=\"63.623047\" xlink:href=\"#DejaVuSans-48\"/>\n      </g>\n     </g>\n    </g>\n    <g id=\"xtick_5\">\n     <g id=\"line2d_5\">\n      <g>\n       <use style=\"stroke:#000000;stroke-width:0.8;\" x=\"675.433642\" xlink:href=\"#m42c96b3bd3\" y=\"550.8\"/>\n      </g>\n     </g>\n     <g id=\"text_5\">\n      <!-- 25 -->\n      <g transform=\"translate(669.071142 565.398438)scale(0.1 -0.1)\">\n       <use xlink:href=\"#DejaVuSans-50\"/>\n       <use x=\"63.623047\" xlink:href=\"#DejaVuSans-53\"/>\n      </g>\n     </g>\n    </g>\n    <g id=\"xtick_6\">\n     <g id=\"line2d_6\">\n      <g>\n       <use style=\"stroke:#000000;stroke-width:0.8;\" x=\"820.093165\" xlink:href=\"#m42c96b3bd3\" y=\"550.8\"/>\n      </g>\n     </g>\n     <g id=\"text_6\">\n      <!-- 30 -->\n      <g transform=\"translate(813.730665 565.398438)scale(0.1 -0.1)\">\n       <defs>\n        <path d=\"M 40.578125 39.3125 \nQ 47.65625 37.796875 51.625 33 \nQ 55.609375 28.21875 55.609375 21.1875 \nQ 55.609375 10.40625 48.1875 4.484375 \nQ 40.765625 -1.421875 27.09375 -1.421875 \nQ 22.515625 -1.421875 17.65625 -0.515625 \nQ 12.796875 0.390625 7.625 2.203125 \nL 7.625 11.71875 \nQ 11.71875 9.328125 16.59375 8.109375 \nQ 21.484375 6.890625 26.8125 6.890625 \nQ 36.078125 6.890625 40.9375 10.546875 \nQ 45.796875 14.203125 45.796875 21.1875 \nQ 45.796875 27.640625 41.28125 31.265625 \nQ 36.765625 34.90625 28.71875 34.90625 \nL 20.21875 34.90625 \nL 20.21875 43.015625 \nL 29.109375 43.015625 \nQ 36.375 43.015625 40.234375 45.921875 \nQ 44.09375 48.828125 44.09375 54.296875 \nQ 44.09375 59.90625 40.109375 62.90625 \nQ 36.140625 65.921875 28.71875 65.921875 \nQ 24.65625 65.921875 20.015625 65.03125 \nQ 15.375 64.15625 9.8125 62.3125 \nL 9.8125 71.09375 \nQ 15.4375 72.65625 20.34375 73.4375 \nQ 25.25 74.21875 29.59375 74.21875 \nQ 40.828125 74.21875 47.359375 69.109375 \nQ 53.90625 64.015625 53.90625 55.328125 \nQ 53.90625 49.265625 50.4375 45.09375 \nQ 46.96875 40.921875 40.578125 39.3125 \nz\n\" id=\"DejaVuSans-51\"/>\n       </defs>\n       <use xlink:href=\"#DejaVuSans-51\"/>\n       <use x=\"63.623047\" xlink:href=\"#DejaVuSans-48\"/>\n      </g>\n     </g>\n    </g>\n   </g>\n   <g id=\"matplotlib.axis_2\">\n    <g id=\"ytick_1\">\n     <g id=\"line2d_7\">\n      <defs>\n       <path d=\"M 0 0 \nL -3.5 0 \n\" id=\"me73776dfd3\" style=\"stroke:#000000;stroke-width:0.8;\"/>\n      </defs>\n      <g>\n       <use style=\"stroke:#000000;stroke-width:0.8;\" x=\"26.925\" xlink:href=\"#me73776dfd3\" y=\"540.721292\"/>\n      </g>\n     </g>\n     <g id=\"text_7\">\n      <!-- 5 -->\n      <g transform=\"translate(13.5625 544.520511)scale(0.1 -0.1)\">\n       <use xlink:href=\"#DejaVuSans-53\"/>\n      </g>\n     </g>\n    </g>\n    <g id=\"ytick_2\">\n     <g id=\"line2d_8\">\n      <g>\n       <use style=\"stroke:#000000;stroke-width:0.8;\" x=\"26.925\" xlink:href=\"#me73776dfd3\" y=\"459.441388\"/>\n      </g>\n     </g>\n     <g id=\"text_8\">\n      <!-- 10 -->\n      <g transform=\"translate(7.2 463.240606)scale(0.1 -0.1)\">\n       <use xlink:href=\"#DejaVuSans-49\"/>\n       <use x=\"63.623047\" xlink:href=\"#DejaVuSans-48\"/>\n      </g>\n     </g>\n    </g>\n    <g id=\"ytick_3\">\n     <g id=\"line2d_9\">\n      <g>\n       <use style=\"stroke:#000000;stroke-width:0.8;\" x=\"26.925\" xlink:href=\"#me73776dfd3\" y=\"378.161483\"/>\n      </g>\n     </g>\n     <g id=\"text_9\">\n      <!-- 15 -->\n      <g transform=\"translate(7.2 381.960702)scale(0.1 -0.1)\">\n       <use xlink:href=\"#DejaVuSans-49\"/>\n       <use x=\"63.623047\" xlink:href=\"#DejaVuSans-53\"/>\n      </g>\n     </g>\n    </g>\n    <g id=\"ytick_4\">\n     <g id=\"line2d_10\">\n      <g>\n       <use style=\"stroke:#000000;stroke-width:0.8;\" x=\"26.925\" xlink:href=\"#me73776dfd3\" y=\"296.881579\"/>\n      </g>\n     </g>\n     <g id=\"text_10\">\n      <!-- 20 -->\n      <g transform=\"translate(7.2 300.680798)scale(0.1 -0.1)\">\n       <use xlink:href=\"#DejaVuSans-50\"/>\n       <use x=\"63.623047\" xlink:href=\"#DejaVuSans-48\"/>\n      </g>\n     </g>\n    </g>\n    <g id=\"ytick_5\">\n     <g id=\"line2d_11\">\n      <g>\n       <use style=\"stroke:#000000;stroke-width:0.8;\" x=\"26.925\" xlink:href=\"#me73776dfd3\" y=\"215.601675\"/>\n      </g>\n     </g>\n     <g id=\"text_11\">\n      <!-- 25 -->\n      <g transform=\"translate(7.2 219.400893)scale(0.1 -0.1)\">\n       <use xlink:href=\"#DejaVuSans-50\"/>\n       <use x=\"63.623047\" xlink:href=\"#DejaVuSans-53\"/>\n      </g>\n     </g>\n    </g>\n    <g id=\"ytick_6\">\n     <g id=\"line2d_12\">\n      <g>\n       <use style=\"stroke:#000000;stroke-width:0.8;\" x=\"26.925\" xlink:href=\"#me73776dfd3\" y=\"134.32177\"/>\n      </g>\n     </g>\n     <g id=\"text_12\">\n      <!-- 30 -->\n      <g transform=\"translate(7.2 138.120989)scale(0.1 -0.1)\">\n       <use xlink:href=\"#DejaVuSans-51\"/>\n       <use x=\"63.623047\" xlink:href=\"#DejaVuSans-48\"/>\n      </g>\n     </g>\n    </g>\n    <g id=\"ytick_7\">\n     <g id=\"line2d_13\">\n      <g>\n       <use style=\"stroke:#000000;stroke-width:0.8;\" x=\"26.925\" xlink:href=\"#me73776dfd3\" y=\"53.041866\"/>\n      </g>\n     </g>\n     <g id=\"text_13\">\n      <!-- 35 -->\n      <g transform=\"translate(7.2 56.841085)scale(0.1 -0.1)\">\n       <use xlink:href=\"#DejaVuSans-51\"/>\n       <use x=\"63.623047\" xlink:href=\"#DejaVuSans-53\"/>\n      </g>\n     </g>\n    </g>\n   </g>\n   <g id=\"patch_3\">\n    <path d=\"M 26.925 550.8 \nL 26.925 7.2 \n\" style=\"fill:none;stroke:#000000;stroke-linecap:square;stroke-linejoin:miter;stroke-width:0.8;\"/>\n   </g>\n   <g id=\"patch_4\">\n    <path d=\"M 863.925 550.8 \nL 863.925 7.2 \n\" style=\"fill:none;stroke:#000000;stroke-linecap:square;stroke-linejoin:miter;stroke-width:0.8;\"/>\n   </g>\n   <g id=\"patch_5\">\n    <path d=\"M 26.925 550.8 \nL 863.925 550.8 \n\" style=\"fill:none;stroke:#000000;stroke-linecap:square;stroke-linejoin:miter;stroke-width:0.8;\"/>\n   </g>\n   <g id=\"patch_6\">\n    <path d=\"M 26.925 7.2 \nL 863.925 7.2 \n\" style=\"fill:none;stroke:#000000;stroke-linecap:square;stroke-linejoin:miter;stroke-width:0.8;\"/>\n   </g>\n  </g>\n </g>\n <defs>\n  <clipPath id=\"pc45b43f17b\">\n   <rect height=\"543.6\" width=\"837\" x=\"26.925\" y=\"7.2\"/>\n  </clipPath>\n </defs>\n</svg>\n",
      "image/png": "[encoded data removed]"
     },
     "metadata": {
      "needs_background": "light"
     }
    }
   ],
   "source": [
    "data1 = pd.read_csv(\"v1.csv\", sep = ';', decimal = ',')\n",
    "data2 = pd.read_csv(\"v2.csv\", sep = ';', decimal = ',')\n",
    "data3 = pd.read_csv(\"v3.csv\", sep = ';', decimal = ',')\n",
    "test = pd.read_csv(\"m0.csv\", sep = ';', decimal = ',')\n",
    "\n",
    "fig = plt.figure(figsize = [15, 10])\n",
    "\n",
    "one = data1.to_numpy()\n",
    "plt.scatter(one[:,0], one[:,1], s = 100)\n",
    "\n",
    "two = data2.to_numpy()\n",
    "plt.scatter(two[:,0], two[:,1], s = 100)\n",
    "\n",
    "tree = data3.to_numpy()\n",
    "plt.scatter(tree[:,0], tree[:,1], s = 100)\n",
    "\n",
    "check = test.to_numpy()\n",
    "plt.scatter(check[:,0], check[:,1], s = 200)\n",
    "\n",
    "plt.show()"
   ]
  },
  {
   "cell_type": "code",
   "execution_count": 14,
   "metadata": {},
   "outputs": [
    {
     "output_type": "stream",
     "name": "stdout",
     "text": [
      "[[0.5    0.42  ]\n [0.42   0.8816]]\n[[ 1.1984 -0.474 ]\n [-0.474   0.948 ]]\n[[ 1.4144  1.8088]\n [ 1.8088 20.0776]]\n"
     ]
    }
   ],
   "source": [
    "cov_1 = np.cov(one, bias = True, rowvar = False)\n",
    "print(cov_1)\n",
    "\n",
    "cov_2 = np.cov(two, bias = True, rowvar = False)\n",
    "print(cov_2)\n",
    "\n",
    "cov_3 = np.cov(tree, bias = True, rowvar = False)\n",
    "print(cov_3)"
   ]
  },
  {
   "cell_type": "code",
   "execution_count": 15,
   "metadata": {},
   "outputs": [
    {
     "output_type": "stream",
     "name": "stdout",
     "text": [
      "[[1.19723077 0.67492308]\n [0.67492308 8.42584615]]\n[[ 0.87476175 -0.07006975]\n [-0.07006975  0.12429514]]\n"
     ]
    }
   ],
   "source": [
    "united_cov = (cov_1*5 + cov_2*5 + cov_3*5)/13\n",
    "print(united_cov)\n",
    "\n",
    "inv_u_cov = np.linalg.inv(united_cov)\n",
    "print(inv_u_cov)"
   ]
  },
  {
   "cell_type": "code",
   "execution_count": 17,
   "metadata": {},
   "outputs": [
    {
     "output_type": "stream",
     "name": "stdout",
     "text": [
      "[5.5  7.42]\n[17.86  8.  ]\n[28.14 30.88]\n"
     ]
    }
   ],
   "source": [
    "mean_1 = one.mean(axis = 0)\n",
    "print(mean_1)\n",
    "\n",
    "mean_2 = two.mean(axis = 0)\n",
    "print(mean_2)\n",
    "\n",
    "mean_3 = tree.mean(axis = 0)\n",
    "print(mean_3)"
   ]
  },
  {
   "cell_type": "code",
   "execution_count": 24,
   "metadata": {},
   "outputs": [
    {
     "output_type": "stream",
     "name": "stdout",
     "text": [
      "[4.29127214 0.5368863 ]\n[15.06268697 -0.25708457]\n[22.45204203  1.86647114]\n"
     ]
    }
   ],
   "source": [
    "b1 = np.dot(inv_u_cov, mean_1)\n",
    "print(b1)\n",
    "\n",
    "b2 =  np.dot(inv_u_cov, mean_2)\n",
    "print(b2)\n",
    "\n",
    "b3 =  np.dot(inv_u_cov, mean_3)\n",
    "print(b3)"
   ]
  },
  {
   "cell_type": "code",
   "execution_count": 25,
   "metadata": {},
   "outputs": [
    {
     "output_type": "stream",
     "name": "stdout",
     "text": [
      "-13.792846570832417\n-133.4814563715782\n-344.7185458492857\n"
     ]
    }
   ],
   "source": [
    "b1_0 = np.dot(b1, mean_1) * (-0.5)\n",
    "print(b1_0)\n",
    "\n",
    "b2_0 = np.dot(b2, mean_2) * (-0.5)\n",
    "print(b2_0)\n",
    "\n",
    "b3_0 = np.dot(b3, mean_3) * (-0.5)\n",
    "print(b3_0)"
   ]
  },
  {
   "cell_type": "code",
   "execution_count": 36,
   "metadata": {},
   "outputs": [
    {
     "output_type": "error",
     "ename": "SyntaxError",
     "evalue": "invalid syntax (<ipython-input-36-6b862956a999>, line 18)",
     "traceback": [
      "\u001b[0;36m  File \u001b[0;32m\"<ipython-input-36-6b862956a999>\"\u001b[0;36m, line \u001b[0;32m18\u001b[0m\n\u001b[0;31m    print('++++++++++++++++++++++++++++++++++++')\u001b[0m\n\u001b[0m    ^\u001b[0m\n\u001b[0;31mSyntaxError\u001b[0m\u001b[0;31m:\u001b[0m invalid syntax\n"
     ]
    }
   ],
   "source": [
    "print(check)\n",
    "\n",
    "resulter = [0, 0, 0]\n",
    "\n",
    "for i in range(3):\n",
    "    print(\"point number \" + str(i))\n",
    "    d1 = np.dot(b1, check[i,:])+b1_0\n",
    "    resulter[0] = d1\n",
    "    print(d1)\n",
    "    d2 = np.dot(b2, check[i,:])+b2_0\n",
    "    resulter[1] = d2\n",
    "    print(d2)\n",
    "    d3 = np.dot(b3, check[i,:])+b3_0\n",
    "    resulter[2] = d3\n",
    "    print(d3)\n",
    "    print('thist point in range ' + str(resulter.index(max(resulter)))\n"
   ]
  },
  {
   "cell_type": "code",
   "execution_count": null,
   "metadata": {},
   "outputs": [],
   "source": []
  }
 ]
}